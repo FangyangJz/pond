{
 "cells": [
  {
   "cell_type": "code",
   "execution_count": null,
   "metadata": {},
   "outputs": [],
   "source": [
    "import baostock as bs\n",
    "import pandas as pd\n",
    "\n",
    "#### 登陆系统 ####\n",
    "lg = bs.login()\n",
    "# 显示登陆返回信息\n",
    "print(\"login respond error_code:\" + lg.error_code)\n",
    "print(\"login respond  error_msg:\" + lg.error_msg)\n",
    "\n",
    "#### 获取某日所有证券信息 ####\n",
    "rs = bs.query_all_stock(day=\"2024-10-25\")\n",
    "print(\"query_all_stock respond error_code:\" + rs.error_code)\n",
    "print(\"query_all_stock respond  error_msg:\" + rs.error_msg)\n",
    "\n",
    "#### 打印结果集 ####\n",
    "data_list = []\n",
    "while (rs.error_code == \"0\") & rs.next():\n",
    "    # 获取一条记录，将记录合并在一起\n",
    "    data_list.append(rs.get_row_data())\n",
    "result = pd.DataFrame(data_list, columns=rs.fields)\n",
    "\n",
    "#### 结果集输出到csv文件 ####\n",
    "result.to_csv(\"D:\\\\all_stock.csv\", encoding=\"gbk\", index=False)\n",
    "print(result)\n",
    "\n",
    "#### 登出系统 ####\n",
    "bs.logout()"
   ]
  },
  {
   "cell_type": "code",
   "execution_count": null,
   "metadata": {},
   "outputs": [
    {
     "name": "stdout",
     "output_type": "stream",
     "text": [
      "login success!\n",
      "login respond error_code:0\n",
      "login respond  error_msg:success\n",
      "query_history_k_data_plus respond error_code:10004012\n",
      "query_history_k_data_plus respond  error_msg:5分钟线指标参数传入错误:isST\n",
      "logout success!\n"
     ]
    },
    {
     "data": {
      "text/plain": [
       "<baostock.data.resultset.ResultData at 0x1d114f390a0>"
      ]
     },
     "execution_count": 5,
     "metadata": {},
     "output_type": "execute_result"
    }
   ],
   "source": [
    "import baostock as bs\n",
    "import pandas as pd\n",
    "\n",
    "# 登陆系统\n",
    "lg = bs.login()\n",
    "# 显示登陆返回信息\n",
    "print(\"login respond error_code:\" + lg.error_code)\n",
    "print(\"login respond  error_msg:\" + lg.error_msg)\n",
    "\n",
    "\n",
    "# 获取 5 分钟 K 线数据\n",
    "def get_5m_kline_data(stock_code, start_date, end_date):\n",
    "    # 沪深 A 股 5 分钟 K 线数据接口\n",
    "    rs = bs.query_history_k_data_plus(\n",
    "        stock_code,\n",
    "        \"date,time,code,open,high,low,close,volume,amount,adjustflag\",\n",
    "        start_date=start_date,\n",
    "        end_date=end_date,\n",
    "        frequency=\"5\",\n",
    "        adjustflag=\"3\",\n",
    "    )\n",
    "    print(\"query_history_k_data_plus respond error_code:\" + rs.error_code)\n",
    "    print(\"query_history_k_data_plus respond  error_msg:\" + rs.error_msg)\n",
    "\n",
    "    # 打印结果集\n",
    "    data_list = []\n",
    "    while (rs.error_code == \"0\") & rs.next():\n",
    "        # 获取一条记录，将记录合并在一起\n",
    "        data_list.append(rs.get_row_data())\n",
    "    result = pd.DataFrame(data_list, columns=rs.fields)\n",
    "    return result\n",
    "\n",
    "\n",
    "# 示例：下载 600000.SH 在 2023-01-01 到 2023-01-31 的 5 分钟 K 线数据\n",
    "stock_code = \"sh.600000\"\n",
    "start_date = \"2020-01-01\"\n",
    "end_date = \"2020-01-31\"\n",
    "df = get_5m_kline_data(stock_code, start_date, end_date)\n",
    "\n",
    "# 输出结果到 CSV 文件\n",
    "df.to_csv(\"5m_kline.csv\", index=False)\n",
    "\n",
    "# 登出系统\n",
    "bs.logout()"
   ]
  }
 ],
 "metadata": {
  "kernelspec": {
   "display_name": "Python 3",
   "language": "python",
   "name": "python3"
  },
  "language_info": {
   "codemirror_mode": {
    "name": "ipython",
    "version": 3
   },
   "file_extension": ".py",
   "mimetype": "text/x-python",
   "name": "python",
   "nbconvert_exporter": "python",
   "pygments_lexer": "ipython3",
   "version": "3.12.7"
  }
 },
 "nbformat": 4,
 "nbformat_minor": 2
}
